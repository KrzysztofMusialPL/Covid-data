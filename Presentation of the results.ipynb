{
 "cells": [
  {
   "cell_type": "code",
   "execution_count": 3,
   "id": "a08bb4be",
   "metadata": {
    "slideshow": {
     "slide_type": "skip"
    }
   },
   "outputs": [
    {
     "data": {
      "text/plain": [
       "'C:\\\\Users\\\\Krzys\\\\OneDrive - RES INVESTMENT\\\\Pulpit\\\\Prywatne\\\\Bootcamp\\\\Kurs\\\\01.04.2023\\\\jdszr11-materialy-ml\\\\01042023 - Drzewa decyzyjne\\\\skrypty'"
      ]
     },
     "execution_count": 3,
     "metadata": {},
     "output_type": "execute_result"
    }
   ],
   "source": [
    "import os \n",
    "cwd = os.getcwd()\n",
    "cwd"
   ]
  },
  {
   "cell_type": "markdown",
   "id": "8e46e123",
   "metadata": {
    "slideshow": {
     "slide_type": "slide"
    }
   },
   "source": [
    "                                  \n",
    "<center>\n",
    "                                                   PANDEMIA COVID 19\n",
    "\n",
    "Cel: analiza danych dotyczących osób, które zachorowały na COVID-19 i próba znalezienia czynników mających wpływ na przebieg choroby zespół projektowy: Krzysztof Musiał, Marcin Mierzejewski, Paweł Witek, Piotr Ciarkowski, Artur Pozorski</center>"
   ]
  },
  {
   "cell_type": "markdown",
   "id": "b6c85c1b",
   "metadata": {
    "slideshow": {
     "slide_type": "slide"
    }
   },
   "source": [
    "\n",
    "\n",
    "            1 019 471 - population from data set\n",
    "\n",
    "            510 509 - Male\n",
    "\n",
    "            508 962 - Female\n",
    "\n",
    "            386 025 - tested positive\n",
    "\n",
    "            73 258 - deaths (52 112 with positive test result)\n",
    "                           \n",
    "            32 923 - intubated\n"
   ]
  },
  {
   "cell_type": "markdown",
   "id": "a58fb769",
   "metadata": {
    "slideshow": {
     "slide_type": "slide"
    }
   },
   "source": [
    "Test results per sex type\n",
    "\n",
    "<img src = \"histogram_wynik_testu.png\" style = \"width:600;height:600px\" > "
   ]
  },
  {
   "cell_type": "markdown",
   "id": "b9ebd9cb",
   "metadata": {
    "slideshow": {
     "slide_type": "slide"
    }
   },
   "source": [
    "Deaths per sex type\n",
    "\n",
    "<img src = \"death_per_sex.png\" style = \"width:600;height:600px\"  >"
   ]
  },
  {
   "cell_type": "markdown",
   "id": "67214c79",
   "metadata": {
    "slideshow": {
     "slide_type": "slide"
    }
   },
   "source": [
    "Deaths per age\n",
    "\n",
    "<img src = \"death_per_sex_age.png\" style = \"width:600;height:600px\"  >"
   ]
  },
  {
   "cell_type": "markdown",
   "id": "c53ae5bd",
   "metadata": {
    "slideshow": {
     "slide_type": "slide"
    }
   },
   "source": [
    "Deaths per sex type and age - tornado\n",
    "\n",
    "<img src = \"death_per_sex_age3.png\" style = \"width:600;height:600px\"  >"
   ]
  },
  {
   "cell_type": "markdown",
   "id": "eb3e2147",
   "metadata": {
    "slideshow": {
     "slide_type": "slide"
    }
   },
   "source": [
    "Correlation\n",
    "\n",
    "<img src = \"korelacja_Spearmana.png\" style = \"width:600;height:600px\"  >"
   ]
  },
  {
   "cell_type": "markdown",
   "id": "7659a85a",
   "metadata": {
    "slideshow": {
     "slide_type": "skip"
    }
   },
   "source": [
    "#widać sporą zależność między śmiercią a intubacją, zapaleniem płuc, wiekiem, cukrzycą, nadciśnieniem "
   ]
  },
  {
   "cell_type": "markdown",
   "id": "f86ba75a",
   "metadata": {
    "slideshow": {
     "slide_type": "slide"
    }
   },
   "source": [
    "TOP comorbidities\n",
    "\n",
    "<img src = \"comorbidities.png\" style = \"width:600;height:600px\"  >\n"
   ]
  },
  {
   "cell_type": "markdown",
   "id": "610d63b0",
   "metadata": {
    "slideshow": {
     "slide_type": "skip"
    }
   },
   "source": [
    "WNIOSKI\n",
    "\n",
    "Biorąc pod uwagę populację, obejmującą osoby z pozytywnym wynikiem testu na COVID, które zmarły, najwięcej zgonów zanotowano przy jednoczesnej diagnozie:\n",
    "\n",
    "zapalenia płuc;\n",
    "\n",
    "nadciśnienia tętniczego;\n",
    "\n",
    "cukrzycy.\n",
    "\n"
   ]
  },
  {
   "cell_type": "markdown",
   "id": "86b1ca73",
   "metadata": {
    "slideshow": {
     "slide_type": "slide"
    }
   },
   "source": [
    "Pneumonia \n",
    "\n",
    "<img src = \"pneumonia.png\" style = \"width:600;height:600px\"  >\n"
   ]
  },
  {
   "cell_type": "markdown",
   "id": "5c01faef",
   "metadata": {
    "slideshow": {
     "slide_type": "skip"
    }
   },
   "source": [
    "WNIOSKI ZAPALENIE PŁUC\n",
    "\n",
    "W przypadku zapalenia płuc, jako choroby współistniejącej z COVID, praktycznie dla każdej grupy wiekowej śmiertelność jest bardzo wysoka i wynosi powyżej 75%. Jedynym wyjątkiem jest grupa w przedziale 0 - 18 lat, gdzie poziom śmiertelności to 67%.\n"
   ]
  },
  {
   "cell_type": "markdown",
   "id": "96566241",
   "metadata": {
    "slideshow": {
     "slide_type": "slide"
    }
   },
   "source": [
    "hipertension \n",
    "\n",
    "<img src = \"hipertension.png\" style = \"width:600;height:600px\"  >\n"
   ]
  },
  {
   "cell_type": "markdown",
   "id": "bc665900",
   "metadata": {
    "slideshow": {
     "slide_type": "skip"
    }
   },
   "source": [
    "WNIOSKI NADCIŚNIENIE TĘTNICZE\n",
    "\n",
    "W przypadku nadciśnienia tętniczego, jako choroby współistniejącej z COVID, praktycznie dla każdej grupy wiekowej śmiertelność jest zależna od wieku i rośnie wykładniczo. Największa śmiertelność dotyczy grup wiekowych 71 - 80 i 80 wzwyż - wynosi kolejno 55% i 54%. Duży wzrost śmiertelności jest szczególnie zauważalny dla osób popwyżej 40 roku życia oraz po ukończeniu 18 lat. W dwóch najstarszych grupach wiekowych poziom śmiertelności przekracza 50% (grupa wiekowa 71 - 80 i powyżej 80 lat). Najlepsze wyniki (95% pacjentów przeżyło) odnotowano w grupie wiekowej do 18 lat. Jest to zapewne związane z charakterystyką choroby, która dotyczy przeważnie osób starszych."
   ]
  },
  {
   "cell_type": "markdown",
   "id": "5806a4eb",
   "metadata": {
    "slideshow": {
     "slide_type": "slide"
    }
   },
   "source": [
    "Diabetes \n",
    "\n",
    "<img src = \"diabetes.png\" style = \"width:600;height:600px\"  >\n"
   ]
  },
  {
   "cell_type": "markdown",
   "id": "859c282d",
   "metadata": {
    "slideshow": {
     "slide_type": "skip"
    }
   },
   "source": [
    "WNIOSKI CUKRZYCA\n",
    "\n",
    "W przypadku cukrzycy, jako choroby współistniejącej z COVID, największa śmiertelność dotyczy osób pomiędzy 51 a 80 rokie życia. Co istnotne, w rzadnej grupie wiekowej pprocentowy poziom śmiertelności nie przekracza 50% - najwyższa wartość dotyczy grupy wiekowej 61 - 70 lat i wunosi 44%. Tak samo jak w przypadku nadciśnienia tętniczego, największa przeżywalność charakteryzuje grupę wiekową 0 - 18 lat (96% pacjentów przeżyło). Jest to zapewne związane z charakterystyką choroby, która dotyczy przeważnie osób starszych. "
   ]
  },
  {
   "cell_type": "markdown",
   "id": "29ce0b1e",
   "metadata": {
    "slideshow": {
     "slide_type": "slide"
    }
   },
   "source": [
    "ICU admitted/dead \n",
    "                                                \n",
    "<img src = \"ICU_per_sex4.png\" style = \"width:500;height:500px\"  > \n"
   ]
  },
  {
   "cell_type": "markdown",
   "id": "732a53e6",
   "metadata": {
    "slideshow": {
     "slide_type": "skip"
    }
   },
   "source": [
    "#Komentarz\n",
    "<img src = \"death_ratio2.png\" style = \"width:100;height:100px\">"
   ]
  },
  {
   "cell_type": "markdown",
   "id": "392d7da5",
   "metadata": {
    "slideshow": {
     "slide_type": "skip"
    }
   },
   "source": [
    "Komentarz odział intensywnej terapi, wstęp.\n",
    "\n",
    "Łączna ilość osób przyjętych na ICU to 16 402. Z tego 67% stanowią mężczyźni. \n",
    "\n",
    "Współczynnik śmiertelności wśród mężczyzn jest wyższy i wynosi 59%, a u kobiet 53%.\n",
    "\n",
    "\n"
   ]
  },
  {
   "cell_type": "markdown",
   "id": "ecf141c9",
   "metadata": {
    "slideshow": {
     "slide_type": "slide"
    }
   },
   "source": [
    "ICU fatalities per age\n",
    "    \n",
    "<img src = \"ICU_per_age.png\" style = \"width:600;height:600px\"  >\n"
   ]
  },
  {
   "cell_type": "markdown",
   "id": "71287dba",
   "metadata": {
    "slideshow": {
     "slide_type": "skip"
    }
   },
   "source": [
    "Komentarz śmietelność na oddziale intensywnej terapi w podziale na płeć oraz wiek - wykres gęstości\n",
    "\n",
    "Widoczne jest przesunięcize wśród grupy kobiet zmarłych na oddziale intensywnej terapi. Przesunięcie mówi, iż więcej kobiet zmarło w przedziale wiekowym 30-60 lat w stosunku do mężczyzn. \n",
    "W grupie mężczyzn przesunięcie widoczne jest w przedziale 60+ - 100 lat, gdzie widoczny jest wzrost liczby zgonów.\n",
    "Obie grupy najwięsze wartości wykazują w przedziale wiokowym 50-60 lat."
   ]
  },
  {
   "cell_type": "markdown",
   "id": "8daca5b4",
   "metadata": {
    "slideshow": {
     "slide_type": "slide"
    }
   },
   "source": [
    " ICU fatalities and disease \n",
    "    \n",
    "<img src = \"ICU_d_d3.png\" style = \"width:600ps;height:600px\"  >\n"
   ]
  },
  {
   "cell_type": "markdown",
   "id": "408bccae",
   "metadata": {
    "slideshow": {
     "slide_type": "skip"
    }
   },
   "source": [
    "Komentarz\n",
    "\n",
    "wśród osób przyjętych na oddział intensywnej terapi największą śmiertelność można zaobserwować wśród mężczyzn chorujących na zapalenie płuc. "
   ]
  },
  {
   "cell_type": "markdown",
   "id": "de410b8c",
   "metadata": {
    "slideshow": {
     "slide_type": "slide"
    }
   },
   "source": [
    "ICU intubed/dead \n",
    "                                                \n",
    "<img src = \"ICU_i_d.png\" style = \"width:500;height:500\"  > \n"
   ]
  },
  {
   "cell_type": "markdown",
   "id": "1d0be1d8",
   "metadata": {
    "slideshow": {
     "slide_type": "skip"
    }
   },
   "source": [
    "# komentarz\n",
    "<img src = \"death_ratio_i_2.png\" style = \"width:200;height:200\"  >|"
   ]
  },
  {
   "cell_type": "markdown",
   "id": "28f6138c",
   "metadata": {
    "slideshow": {
     "slide_type": "slide"
    }
   },
   "source": [
    "Intubed per age \n",
    "    \n",
    "<img src = \"death_per_age_int3.png\" style = \"width:600;height:600px\"  >\n"
   ]
  },
  {
   "cell_type": "markdown",
   "id": "7589a016",
   "metadata": {
    "slideshow": {
     "slide_type": "skip"
    }
   },
   "source": [
    "Komentarz\n",
    "\n",
    "Śmiertelność osób zaintubowanych jest wyższa u kobiet w przedziale wieku 30-60. W mężczyzn jest ona najwyższa w przedziale 60-100.\n",
    "\n",
    "Analogicznie do wykresu gęstości z całkowitą ilościa zgonów.\n"
   ]
  },
  {
   "cell_type": "markdown",
   "id": "75442f1b",
   "metadata": {
    "slideshow": {
     "slide_type": "slide"
    }
   },
   "source": [
    " ICU fatalities, intubed and disease \n",
    "        \n",
    "<img src = \"ICU_d_i_d.png\" style = \"width:600ps;height:600px\"  >\n"
   ]
  },
  {
   "cell_type": "markdown",
   "id": "9d7a3777",
   "metadata": {
    "slideshow": {
     "slide_type": "skip"
    }
   },
   "source": [
    "Komentarz\n",
    "\n",
    "wśród osób przyjętych na oddział intensywnej terapi oraz zaintubowanych największą śmiertelność można zaobserwować wśród mężczyzn chorujących na zapalenie płuc. "
   ]
  },
  {
   "cell_type": "markdown",
   "id": "c717046f",
   "metadata": {
    "slideshow": {
     "slide_type": "slide"
    }
   },
   "source": [
    "**Wnioski:** największe ryzyko śmierci w przypadku covid zdiagnozowano dla osób powyżej 50 roku życia, z chorobami współistniejącymi (zapalenie płuc, nadciśnienie tętnicze, cukrzyca).\n",
    "\n",
    "**Zalecenia:**\n",
    "\n",
    "- szczepienia dla osób z grupy ryzyka (w przypadku braku medycznych przeciwwskazań);\n",
    "- izolacja osób z wysokim ryzykiem śmiertelności od osób potencjalnie zarażonych (np. w miejscach publicznych);\n",
    "- zwiększenie środków na leczenie osób z chorobami z listy TOP-3 chorób współistniejących;\n",
    "- edukacja i profilaktyka w przypadku nadciśnienia tętniczego i cukrzycy (propagowanie zdrowego stylu życia). \n"
   ]
  },
  {
   "cell_type": "markdown",
   "id": "513a51d9",
   "metadata": {
    "slideshow": {
     "slide_type": "slide"
    }
   },
   "source": [
    "<center>DZIĘKUJEMY ZA UWAGĘ</center> "
   ]
  }
 ],
 "metadata": {
  "celltoolbar": "Slideshow",
  "kernelspec": {
   "display_name": "Python 3 (ipykernel)",
   "language": "python",
   "name": "python3"
  },
  "language_info": {
   "codemirror_mode": {
    "name": "ipython",
    "version": 3
   },
   "file_extension": ".py",
   "mimetype": "text/x-python",
   "name": "python",
   "nbconvert_exporter": "python",
   "pygments_lexer": "ipython3",
   "version": "3.9.16"
  }
 },
 "nbformat": 4,
 "nbformat_minor": 5
}
